{
 "cells": [
  {
   "cell_type": "code",
   "execution_count": 2,
   "id": "6d49b6d0-7198-49d4-aa9f-81dbe0cc4f92",
   "metadata": {},
   "outputs": [],
   "source": [
    "from pyspark.sql import SparkSession\n",
    "from pyspark.sql.functions import col, mean, stddev, abs, to_timestamp, hour, expr, when\n",
    "import os"
   ]
  },
  {
   "cell_type": "code",
   "execution_count": 3,
   "id": "70899210-95bc-4f43-b7dd-40701513dbec",
   "metadata": {},
   "outputs": [],
   "source": [
    "# MinIO/S3 configs\n",
    "minio_endpoint = os.environ['MINIO_ENDPOINT']\n",
    "minio_user = os.environ['MINIO_ROOT_USER']\n",
    "minio_password = os.environ['MINIO_ROOT_PASSWORD']\n",
    "bucket = \"raw\"\n",
    "bucket_refined = \"refined\""
   ]
  },
  {
   "cell_type": "code",
   "execution_count": 4,
   "id": "9d578c0b-e1eb-4a6d-a2ee-9cd2531b51e1",
   "metadata": {},
   "outputs": [
    {
     "name": "stderr",
     "output_type": "stream",
     "text": [
      "25/06/12 22:38:19 WARN NativeCodeLoader: Unable to load native-hadoop library for your platform... using builtin-java classes where applicable\n",
      "Setting default log level to \"WARN\".\n",
      "To adjust logging level use sc.setLogLevel(newLevel). For SparkR, use setLogLevel(newLevel).\n"
     ]
    },
    {
     "data": {
      "text/html": [
       "\n",
       "            <div>\n",
       "                <p><b>SparkSession - in-memory</b></p>\n",
       "                \n",
       "        <div>\n",
       "            <p><b>SparkContext</b></p>\n",
       "\n",
       "            <p><a href=\"http://b384e319b89a:4040\">Spark UI</a></p>\n",
       "\n",
       "            <dl>\n",
       "              <dt>Version</dt>\n",
       "                <dd><code>v3.5.5</code></dd>\n",
       "              <dt>Master</dt>\n",
       "                <dd><code>spark://spark-master:7077</code></dd>\n",
       "              <dt>AppName</dt>\n",
       "                <dd><code>Weather Anomaly Detection - Notebook</code></dd>\n",
       "            </dl>\n",
       "        </div>\n",
       "        \n",
       "            </div>\n",
       "        "
      ],
      "text/plain": [
       "<pyspark.sql.session.SparkSession at 0x7d385ba30200>"
      ]
     },
     "execution_count": 4,
     "metadata": {},
     "output_type": "execute_result"
    }
   ],
   "source": [
    "# Spark session\n",
    "spark = (\n",
    "    SparkSession\n",
    "     .builder\n",
    "    .master(\"spark://spark-master:7077\")\n",
    "    .appName(\"Weather Anomaly Detection - Notebook\")\n",
    "    .config(\"spark.hadoop.fs.s3a.endpoint\", minio_endpoint)\n",
    "    .config(\"spark.hadoop.fs.s3a.access.key\", minio_user)\n",
    "    .config(\"spark.hadoop.fs.s3a.secret.key\", minio_password)\n",
    "    .config(\"spark.hadoop.fs.s3a.path.style.access\", \"true\")\n",
    "    .config(\"spark.hadoop.fs.s3a.connection.ssl.enabled\", \"false\")\n",
    "    .config(\"spark.hadoop.fs.s3a.impl\", \"org.apache.hadoop.fs.s3a.S3AFileSystem\")\n",
    "    .config(\"spark.hadoop.fs.s3a.aws.credentials.provider\", \"org.apache.hadoop.fs.s3a.SimpleAWSCredentialsProvider\")\n",
    "    .config(\"spark.jars\", \"/opt/spark/jars/hadoop-aws-3.3.4.jar,/opt/spark/jars/aws-java-sdk-bundle-1.11.1026.jar\")\n",
    "    .getOrCreate()\n",
    ")\n",
    "         \n",
    "\n",
    "spark"
   ]
  },
  {
   "cell_type": "markdown",
   "id": "4ebada53-b323-4204-bc01-ceb64e542eb1",
   "metadata": {},
   "source": [
    "## Temperatura"
   ]
  },
  {
   "cell_type": "code",
   "execution_count": 89,
   "id": "1d182b99-4cbe-4cbf-9a3c-0ff5ae18e0fc",
   "metadata": {},
   "outputs": [
    {
     "name": "stderr",
     "output_type": "stream",
     "text": [
      "                                                                                \r"
     ]
    },
    {
     "name": "stdout",
     "output_type": "stream",
     "text": [
      "root\n",
      " |-- city: string (nullable = true)\n",
      " |-- interval: long (nullable = true)\n",
      " |-- is_day: long (nullable = true)\n",
      " |-- temperature: double (nullable = true)\n",
      " |-- time: string (nullable = true)\n",
      " |-- weathercode: long (nullable = true)\n",
      " |-- winddirection: long (nullable = true)\n",
      " |-- windspeed: double (nullable = true)\n",
      "\n"
     ]
    },
    {
     "name": "stderr",
     "output_type": "stream",
     "text": [
      "                                                                                \r"
     ]
    },
    {
     "name": "stdout",
     "output_type": "stream",
     "text": [
      "+-------------------+------------------------+-----------+------------------+-------------------+------------------+-------------+--------------+\n",
      "|timestamp          |city                    |temperature|avg_temp          |std_temp           |temp_z_score      |anomaly_level|is_iqr_anomaly|\n",
      "+-------------------+------------------------+-----------+------------------+-------------------+------------------+-------------+--------------+\n",
      "|2025-06-03 21:15:00|SP-São José do Rio Preto|22.0       |20.548484848484847|0.6279808323416396 |2.3114004070835827|moderada     |false         |\n",
      "|2025-06-03 21:15:00|SP-São José do Rio Preto|22.0       |20.548484848484847|0.6279808323416396 |2.3114004070835827|moderada     |false         |\n",
      "|2025-06-03 21:15:00|SP-São José do Rio Preto|22.0       |20.548484848484847|0.6279808323416396 |2.3114004070835827|moderada     |false         |\n",
      "|2025-06-03 22:00:00|SP-São José do Rio Preto|20.4       |19.86458333333334 |0.23394968719865897|2.2885974889635516|moderada     |false         |\n",
      "|2025-06-03 22:00:00|SP-São José do Rio Preto|20.4       |19.86458333333334 |0.23394968719865897|2.2885974889635516|moderada     |false         |\n",
      "|2025-06-03 22:00:00|SP-São José do Rio Preto|20.4       |19.86458333333334 |0.23394968719865897|2.2885974889635516|moderada     |false         |\n",
      "|2025-06-03 22:00:00|SP-São José do Rio Preto|20.4       |19.86458333333334 |0.23394968719865897|2.2885974889635516|moderada     |false         |\n",
      "|2025-06-03 22:00:00|SP-São José do Rio Preto|20.4       |19.86458333333334 |0.23394968719865897|2.2885974889635516|moderada     |false         |\n",
      "|2025-06-03 22:00:00|SP-São José do Rio Preto|20.4       |19.86458333333334 |0.23394968719865897|2.2885974889635516|moderada     |false         |\n",
      "|2025-06-03 22:00:00|SP-São José do Rio Preto|20.4       |19.86458333333334 |0.23394968719865897|2.2885974889635516|moderada     |false         |\n",
      "+-------------------+------------------------+-----------+------------------+-------------------+------------------+-------------+--------------+\n",
      "only showing top 10 rows\n",
      "\n"
     ]
    },
    {
     "name": "stderr",
     "output_type": "stream",
     "text": [
      "                                                                                \r"
     ]
    }
   ],
   "source": [
    "# Analiza os dados de clima (JSON)\n",
    "df_weather = spark.read.json(f\"s3a://{bucket}/weather/*/*.json\")\n",
    "df_weather.printSchema()\n",
    "\n",
    "# Converte o campo de tempo para timestamp se necessário\n",
    "df_weather = df_weather.withColumn(\"timestamp\", to_timestamp(col(\"time\")))\n",
    "\n",
    "# Adiciona coluna com hora do dia\n",
    "df_weather = df_weather.withColumn(\"hour\", hour(\"timestamp\"))\n",
    "\n",
    "# Remove outliers extremos (temperatura fora do 5º-95º percentil)\n",
    "quantiles = df_weather.approxQuantile(\"temperature\", [0.05, 0.95], 0.05)\n",
    "df_weather = df_weather.filter(\n",
    "    (col(\"temperature\") >= quantiles[0]) & (col(\"temperature\") <= quantiles[1])\n",
    ")\n",
    "\n",
    "# Estatísticas por cidade e hora\n",
    "stats_weather = df_weather.groupBy(\"city\", \"hour\").agg(\n",
    "    mean(\"temperature\").alias(\"avg_temp\"),\n",
    "    stddev(\"temperature\").alias(\"std_temp\")\n",
    ")\n",
    "\n",
    "# Junta as estatísticas no dataframe\n",
    "df_weather = df_weather.join(stats_weather, on=[\"city\", \"hour\"])\n",
    "\n",
    "# Calcula z-score\n",
    "df_weather = df_weather.withColumn(\n",
    "    \"temp_z_score\", abs((col(\"temperature\") - col(\"avg_temp\")) / col(\"std_temp\"))\n",
    ")\n",
    "\n",
    "# Classificação da severidade\n",
    "df_weather = df_weather.withColumn(\n",
    "    \"anomaly_level\",\n",
    "    when(col(\"temp_z_score\") > 3, \"extrema\")\n",
    "    .when(col(\"temp_z_score\") > 2.5, \"severa\")\n",
    "    .when(col(\"temp_z_score\") > 2, \"moderada\")\n",
    ")\n",
    "\n",
    "# Estatísticas de IQR (por cidade)\n",
    "iqr_stats = df_weather.groupBy(\"city\").agg(\n",
    "    expr(\"percentile_approx(temperature, 0.25)\").alias(\"Q1\"),\n",
    "    expr(\"percentile_approx(temperature, 0.75)\").alias(\"Q3\")\n",
    ")\n",
    "df_weather = df_weather.join(iqr_stats, on=\"city\")\n",
    "df_weather = df_weather.withColumn(\"IQR\", col(\"Q3\") - col(\"Q1\"))\n",
    "\n",
    "# Detecta anomalias por IQR\n",
    "df_weather = df_weather.withColumn(\n",
    "    \"is_iqr_anomaly\",\n",
    "    (col(\"temperature\") < (col(\"Q1\") - 1.5 * col(\"IQR\"))) |\n",
    "    (col(\"temperature\") > (col(\"Q3\") + 1.5 * col(\"IQR\")))\n",
    ")\n",
    "\n",
    "# Filtra apenas registros anômalos por z-score ou IQR\n",
    "df_weather_anomalies = df_weather.filter(\n",
    "    (col(\"temp_z_score\") > 2) | (col(\"is_iqr_anomaly\") == True)\n",
    ")\n",
    "\n",
    "# Exibe os resultados\n",
    "df_weather_anomalies.select(\n",
    "    \"timestamp\", \"city\", \"temperature\", \"avg_temp\", \"std_temp\",\n",
    "    \"temp_z_score\", \"anomaly_level\", \"is_iqr_anomaly\"\n",
    ").show(10, truncate=False)\n",
    "\n",
    "# Salva os resultados no S3\n",
    "df_weather_anomalies.write.mode(\"overwrite\").parquet(\n",
    "    f\"s3a://{bucket}/anomalies/weather\"\n",
    ")"
   ]
  },
  {
   "cell_type": "markdown",
   "id": "e69b0654-299f-43ab-a584-1810de256430",
   "metadata": {},
   "source": [
    "## Qualidade do Ar"
   ]
  },
  {
   "cell_type": "code",
   "execution_count": 90,
   "id": "184937ba-4f78-4b47-808c-4371307cc0ca",
   "metadata": {},
   "outputs": [
    {
     "name": "stdout",
     "output_type": "stream",
     "text": [
      "root\n",
      " |-- city: string (nullable = true)\n",
      " |-- parameter: string (nullable = true)\n",
      " |-- value: double (nullable = true)\n",
      " |-- unit: string (nullable = true)\n",
      " |-- timestamp: timestamp_ntz (nullable = true)\n",
      " |-- source: string (nullable = true)\n",
      "\n",
      "+-------------------+------------------------+---------+-----+------------------+------------------+------------------+-------------+--------------+\n",
      "|timestamp          |city                    |parameter|value|avg_value         |std_value         |aqi_z_score       |anomaly_level|is_iqr_anomaly|\n",
      "+-------------------+------------------------+---------+-----+------------------+------------------+------------------+-------------+--------------+\n",
      "|2025-06-09 17:00:00|SP-Ribeirão Preto       |pm25     |9.0  |15.0              |8.48528137423857  |0.7071067811865476|NULL         |true          |\n",
      "|2025-06-09 17:00:00|SP-Sorocaba             |no2      |11.9 |11.9              |NULL              |NULL              |NULL         |true          |\n",
      "|2025-06-03 17:00:00|SP-São Paulo            |o3       |14.3 |10.850000000000001|4.879036790187178 |0.7071067811865474|NULL         |true          |\n",
      "|2025-06-03 17:00:00|SP-São Bernardo do Campo|co       |5.5  |3.7               |1.2727922061357857|1.4142135623730947|NULL         |true          |\n",
      "|2025-06-03 17:00:00|SP-São Bernardo do Campo|no2      |25.6 |17.3              |5.629683235612226 |1.4743280665412748|NULL         |true          |\n",
      "|2025-06-03 17:00:00|SP-São Bernardo do Campo|pm25     |72.0 |43.5              |19.0              |1.5               |NULL         |true          |\n",
      "|2025-06-03 17:00:00|SP-São José dos Campos  |pm10     |30.0 |30.0              |NULL              |NULL              |NULL         |true          |\n",
      "|2025-06-03 17:00:00|SP-Santo André          |co       |5.5  |3.7               |1.2727922061357857|1.4142135623730947|NULL         |true          |\n",
      "|2025-06-03 17:00:00|SP-Santo André          |no2      |25.6 |17.3              |5.629683235612226 |1.4743280665412748|NULL         |true          |\n",
      "|2025-06-03 17:00:00|SP-Santo André          |pm25     |72.0 |43.5              |19.0              |1.5               |NULL         |true          |\n",
      "+-------------------+------------------------+---------+-----+------------------+------------------+------------------+-------------+--------------+\n",
      "only showing top 10 rows\n",
      "\n"
     ]
    }
   ],
   "source": [
    "# Analisa os dados de qualidade do ar (Parquet)\n",
    "df_airquality = spark.read.parquet(f\"s3a://{bucket}/airquality/*/*/*/*.parquet\")\n",
    "df_airquality.printSchema()\n",
    "\n",
    "# Lê os dados Parquet da qualidade do ar\n",
    "df_airquality = spark.read.parquet(f\"s3a://{bucket}/airquality/*/*/*/*.parquet\")\n",
    "\n",
    "# Ajusta timestamp se for string\n",
    "df_airquality = df_airquality.withColumn(\"timestamp\", to_timestamp(col(\"timestamp\")))\n",
    "\n",
    "# Filtro para apenas parâmetros relevantes de AQI\n",
    "aqi_params = [\"pm25\", \"pm10\", \"no2\", \"o3\", \"co\", \"so2\"]\n",
    "df_airquality = df_airquality.filter(col(\"parameter\").isin(aqi_params))\n",
    "\n",
    "# Adiciona coluna com hora do dia\n",
    "df_airquality = df_airquality.withColumn(\"hour\", hour(\"timestamp\"))\n",
    "\n",
    "# Remove valores extremos antes de calcular estatísticas (5º e 95º percentil)\n",
    "quantiles = df_airquality.approxQuantile(\"value\", [0.05, 0.95], 0.05)\n",
    "df_airquality = df_airquality.filter(\n",
    "    (col(\"value\") >= quantiles[0]) & (col(\"value\") <= quantiles[1])\n",
    ")\n",
    "\n",
    "# Calcula estatísticas por cidade, parâmetro e hora\n",
    "stats_hourly = df_airquality.groupBy(\"city\", \"parameter\", \"hour\").agg(\n",
    "    mean(\"value\").alias(\"avg_value\"),\n",
    "    stddev(\"value\").alias(\"std_value\")\n",
    ")\n",
    "\n",
    "# Junta as estatísticas no DataFrame original\n",
    "df_airquality = df_airquality.join(stats_hourly, on=[\"city\", \"parameter\", \"hour\"])\n",
    "\n",
    "# Calcula Z-score e marca anomalias com severidade\n",
    "df_airquality = df_airquality.withColumn(\n",
    "    \"aqi_z_score\", abs((col(\"value\") - col(\"avg_value\")) / col(\"std_value\"))\n",
    ")\n",
    "\n",
    "df_airquality = df_airquality.withColumn(\n",
    "    \"anomaly_level\",\n",
    "    when(col(\"aqi_z_score\") > 3, \"extrema\")\n",
    "    .when(col(\"aqi_z_score\") > 2.5, \"severa\")\n",
    "    .when(col(\"aqi_z_score\") > 2, \"moderada\")\n",
    ")\n",
    "\n",
    "# Calcula IQR para reforçar detecção robusta de outliers\n",
    "iqr_stats = df_airquality.groupBy(\"city\", \"parameter\").agg(\n",
    "    expr(\"percentile_approx(value, 0.25)\").alias(\"Q1\"),\n",
    "    expr(\"percentile_approx(value, 0.75)\").alias(\"Q3\")\n",
    ")\n",
    "df_airquality = df_airquality.join(iqr_stats, on=[\"city\", \"parameter\"])\n",
    "df_airquality = df_airquality.withColumn(\"IQR\", col(\"Q3\") - col(\"Q1\"))\n",
    "\n",
    "# Marca anomalias com base no IQR (regra de 1.5*IQR)\n",
    "df_airquality = df_airquality.withColumn(\n",
    "    \"is_iqr_anomaly\",\n",
    "    (col(\"value\") < (col(\"Q1\") - 1.5 * col(\"IQR\"))) |\n",
    "    (col(\"value\") > (col(\"Q3\") + 1.5 * col(\"IQR\")))\n",
    ")\n",
    "\n",
    "# Filtra anomalias detectadas por Z-score OU por IQR\n",
    "df_airquality_anomalies = df_airquality.filter(\n",
    "    (col(\"aqi_z_score\") > 2) | (col(\"is_iqr_anomaly\") == True)\n",
    ")\n",
    "\n",
    "# Mostra exemplos\n",
    "df_airquality_anomalies.select(\n",
    "    \"timestamp\", \"city\", \"parameter\", \"value\",\n",
    "    \"avg_value\", \"std_value\", \"aqi_z_score\", \"anomaly_level\", \"is_iqr_anomaly\"\n",
    ").show(10, truncate=False)\n",
    "\n",
    "# Salva os resultados\n",
    "df_airquality_anomalies.write.mode(\"overwrite\").parquet(f\"s3a://{bucket}/anomalies/airquality\")"
   ]
  },
  {
   "cell_type": "markdown",
   "id": "41036972-9796-408a-8fc5-eb42e4bf01c9",
   "metadata": {},
   "source": [
    "## Combinação"
   ]
  },
  {
   "cell_type": "code",
   "execution_count": 91,
   "id": "d7ca5f46-7f70-4d74-9295-44454f586a3f",
   "metadata": {},
   "outputs": [
    {
     "name": "stdout",
     "output_type": "stream",
     "text": [
      "+--------------------+--------+--------+\n",
      "|                city|     lat|    long|\n",
      "+--------------------+--------+--------+\n",
      "|        SP-São Paulo|-23.5505|-46.6333|\n",
      "|        SP-Guarulhos|-23.4545|-46.5333|\n",
      "|         SP-Campinas|-22.9099|-47.0626|\n",
      "|SP-São Bernardo d...|-23.6914|-46.5646|\n",
      "|SP-São José dos C...|-23.1896|-45.8841|\n",
      "|      SP-Santo André|-23.6639|-46.5383|\n",
      "|   SP-Ribeirão Preto|-21.1784|-47.8064|\n",
      "|           SP-Osasco|-23.5329|-46.7926|\n",
      "|         SP-Sorocaba|-23.5018|-47.4583|\n",
      "|             SP-Mauá|-23.6677|-46.4613|\n",
      "|SP-São José do Ri...|-20.8114|-49.3759|\n",
      "|  SP-Mogi das Cruzes|-23.5208|-46.1854|\n",
      "|           SP-Santos|-23.9608|-46.3336|\n",
      "|          SP-Diadema|-23.6813|-46.6228|\n",
      "|          SP-Jundiaí|-23.1857|-46.8978|\n",
      "|       SP-Piracicaba|-22.7253|-47.6492|\n",
      "|      SP-Carapicuíba|-23.5225|-46.8355|\n",
      "|            SP-Bauru|-22.3145|-49.0586|\n",
      "|  SP-Itaquaquecetuba|-23.4867|-46.3486|\n",
      "|           SP-Franca|-20.5382|-47.4009|\n",
      "+--------------------+--------+--------+\n",
      "only showing top 20 rows\n",
      "\n"
     ]
    }
   ],
   "source": [
    "import pandas as pd\n",
    "\n",
    "# Lê os arquivos de cidades com lat/long\n",
    "df_cities = pd.read_json(\"../shared/cities.json\", orient=\"index\").reset_index()\n",
    "df_cities.columns = [\"city\", \"lat\", \"long\"]\n",
    "cities_dict = df_cities.to_dict(orient=\"index\")\n",
    "\n",
    "# Converte para DataFrame do Spark\n",
    "df_cities = spark.createDataFrame(list(cities_dict.values()))\n",
    "df_cities.show()"
   ]
  },
  {
   "cell_type": "code",
   "execution_count": 92,
   "id": "a0c2b7e9",
   "metadata": {},
   "outputs": [
    {
     "name": "stderr",
     "output_type": "stream",
     "text": [
      "[Stage 96:=====================================================>(625 + 4) / 630]\r"
     ]
    },
    {
     "name": "stdout",
     "output_type": "stream",
     "text": [
      "root\n",
      " |-- city: string (nullable = true)\n",
      " |-- interval: long (nullable = true)\n",
      " |-- is_day: long (nullable = true)\n",
      " |-- temperature: double (nullable = true)\n",
      " |-- time: string (nullable = true)\n",
      " |-- weathercode: long (nullable = true)\n",
      " |-- winddirection: long (nullable = true)\n",
      " |-- windspeed: double (nullable = true)\n",
      "\n"
     ]
    },
    {
     "name": "stderr",
     "output_type": "stream",
     "text": [
      "                                                                                \r"
     ]
    }
   ],
   "source": [
    "# Le os dados de clima (JSON)\n",
    "df_weather = spark.read.json(f\"s3a://{bucket}/weather/*/*.json\")\n",
    "df_weather.printSchema()"
   ]
  },
  {
   "cell_type": "code",
   "execution_count": 93,
   "id": "d607071b",
   "metadata": {},
   "outputs": [
    {
     "name": "stdout",
     "output_type": "stream",
     "text": [
      "root\n",
      " |-- city: string (nullable = true)\n",
      " |-- parameter: string (nullable = true)\n",
      " |-- value: double (nullable = true)\n",
      " |-- unit: string (nullable = true)\n",
      " |-- timestamp: timestamp_ntz (nullable = true)\n",
      " |-- source: string (nullable = true)\n",
      "\n"
     ]
    }
   ],
   "source": [
    "# Lê os dados de qualidade do ar (Parquet)\n",
    "df_airquality = spark.read.parquet(f\"s3a://{bucket}/airquality/*/*/*/*.parquet\")\n",
    "df_airquality.printSchema()"
   ]
  },
  {
   "cell_type": "code",
   "execution_count": 85,
   "id": "53f58f28",
   "metadata": {},
   "outputs": [
    {
     "name": "stderr",
     "output_type": "stream",
     "text": [
      "                                                                                \r"
     ]
    },
    {
     "name": "stdout",
     "output_type": "stream",
     "text": [
      "+------------------------+--------+------+-----------+----------------+-----------+-------------+---------+--------+--------+\n",
      "|city                    |interval|is_day|temperature|time            |weathercode|winddirection|windspeed|lat     |long    |\n",
      "+------------------------+--------+------+-----------+----------------+-----------+-------------+---------+--------+--------+\n",
      "|SP-São José do Rio Preto|900     |1     |23.3       |2025-06-03T17:15|95         |173          |9.1      |-20.8114|-49.3759|\n",
      "|SP-São José do Rio Preto|900     |1     |23.3       |2025-06-03T17:15|95         |173          |9.1      |-20.8114|-49.3759|\n",
      "|SP-São José do Rio Preto|900     |1     |23.0       |2025-06-03T17:30|95         |162          |9.1      |-20.8114|-49.3759|\n",
      "|SP-São José do Rio Preto|900     |1     |23.0       |2025-06-03T17:30|95         |162          |9.1      |-20.8114|-49.3759|\n",
      "|SP-São José do Rio Preto|900     |1     |22.8       |2025-06-03T17:45|95         |149          |8.4      |-20.8114|-49.3759|\n",
      "|SP-São José do Rio Preto|900     |1     |22.8       |2025-06-03T17:45|95         |149          |8.4      |-20.8114|-49.3759|\n",
      "|SP-São José do Rio Preto|900     |1     |22.8       |2025-06-03T17:45|95         |149          |8.4      |-20.8114|-49.3759|\n",
      "|SP-São José do Rio Preto|900     |1     |22.8       |2025-06-03T17:45|95         |149          |8.4      |-20.8114|-49.3759|\n",
      "|SP-São José do Rio Preto|900     |1     |22.8       |2025-06-03T17:45|95         |149          |8.4      |-20.8114|-49.3759|\n",
      "|SP-São José do Rio Preto|900     |1     |22.8       |2025-06-03T17:45|95         |149          |8.4      |-20.8114|-49.3759|\n",
      "|SP-São José do Rio Preto|900     |1     |22.8       |2025-06-03T17:45|95         |149          |8.4      |-20.8114|-49.3759|\n",
      "|SP-São José do Rio Preto|900     |1     |22.6       |2025-06-03T18:00|80         |140          |8.4      |-20.8114|-49.3759|\n",
      "|SP-São José do Rio Preto|900     |1     |22.6       |2025-06-03T18:00|80         |140          |8.4      |-20.8114|-49.3759|\n",
      "|SP-São José do Rio Preto|900     |1     |22.6       |2025-06-03T18:00|80         |140          |8.4      |-20.8114|-49.3759|\n",
      "|SP-São José do Rio Preto|900     |1     |22.8       |2025-06-03T17:45|95         |149          |8.4      |-20.8114|-49.3759|\n",
      "|SP-São José do Rio Preto|900     |1     |22.6       |2025-06-03T18:00|80         |140          |8.4      |-20.8114|-49.3759|\n",
      "|SP-São José do Rio Preto|900     |1     |22.6       |2025-06-03T18:00|80         |140          |8.4      |-20.8114|-49.3759|\n",
      "|SP-São José do Rio Preto|900     |1     |22.6       |2025-06-03T18:00|80         |140          |8.4      |-20.8114|-49.3759|\n",
      "|SP-São José do Rio Preto|900     |1     |22.6       |2025-06-03T18:00|80         |140          |8.4      |-20.8114|-49.3759|\n",
      "|SP-São José do Rio Preto|900     |1     |22.6       |2025-06-03T18:00|80         |140          |8.4      |-20.8114|-49.3759|\n",
      "|SP-São José do Rio Preto|900     |1     |22.6       |2025-06-03T18:00|80         |140          |8.4      |-20.8114|-49.3759|\n",
      "|SP-São José do Rio Preto|900     |1     |22.6       |2025-06-03T18:00|80         |140          |8.4      |-20.8114|-49.3759|\n",
      "|SP-São José do Rio Preto|900     |1     |22.6       |2025-06-03T18:00|80         |140          |8.4      |-20.8114|-49.3759|\n",
      "|SP-São José do Rio Preto|900     |1     |22.6       |2025-06-03T18:00|80         |140          |8.4      |-20.8114|-49.3759|\n",
      "|SP-São José do Rio Preto|900     |1     |22.6       |2025-06-03T18:00|80         |140          |8.4      |-20.8114|-49.3759|\n",
      "|SP-São José do Rio Preto|900     |1     |22.6       |2025-06-03T18:00|80         |140          |8.4      |-20.8114|-49.3759|\n",
      "|SP-São José do Rio Preto|900     |1     |22.8       |2025-06-03T17:45|95         |149          |8.4      |-20.8114|-49.3759|\n",
      "|SP-São José do Rio Preto|900     |1     |22.6       |2025-06-03T18:00|80         |140          |8.4      |-20.8114|-49.3759|\n",
      "|SP-São José do Rio Preto|900     |1     |22.6       |2025-06-03T18:00|80         |140          |8.4      |-20.8114|-49.3759|\n",
      "|SP-São José do Rio Preto|900     |1     |22.6       |2025-06-03T18:00|80         |140          |8.4      |-20.8114|-49.3759|\n",
      "|SP-São José do Rio Preto|900     |1     |22.6       |2025-06-03T18:00|80         |140          |8.4      |-20.8114|-49.3759|\n",
      "|SP-São José do Rio Preto|900     |1     |22.6       |2025-06-03T18:00|80         |140          |8.4      |-20.8114|-49.3759|\n",
      "|SP-São José do Rio Preto|900     |1     |22.6       |2025-06-03T18:00|80         |140          |8.4      |-20.8114|-49.3759|\n",
      "|SP-São José do Rio Preto|900     |1     |22.6       |2025-06-03T18:00|80         |140          |8.4      |-20.8114|-49.3759|\n",
      "|SP-São José do Rio Preto|900     |1     |22.6       |2025-06-03T18:00|80         |140          |8.4      |-20.8114|-49.3759|\n",
      "|SP-São José do Rio Preto|900     |1     |22.6       |2025-06-03T18:00|80         |140          |8.4      |-20.8114|-49.3759|\n",
      "|SP-São José do Rio Preto|900     |1     |22.6       |2025-06-03T18:00|80         |140          |8.4      |-20.8114|-49.3759|\n",
      "|SP-São José do Rio Preto|900     |1     |22.6       |2025-06-03T18:00|80         |140          |8.4      |-20.8114|-49.3759|\n",
      "|SP-São José do Rio Preto|900     |1     |22.6       |2025-06-03T18:00|80         |140          |8.4      |-20.8114|-49.3759|\n",
      "|SP-São José do Rio Preto|900     |1     |22.6       |2025-06-03T18:00|80         |140          |8.4      |-20.8114|-49.3759|\n",
      "|SP-São José do Rio Preto|900     |1     |22.6       |2025-06-03T18:00|80         |140          |8.4      |-20.8114|-49.3759|\n",
      "|SP-São José do Rio Preto|900     |1     |22.6       |2025-06-03T18:00|80         |140          |8.4      |-20.8114|-49.3759|\n",
      "|SP-São José do Rio Preto|900     |1     |22.6       |2025-06-03T18:00|80         |140          |8.4      |-20.8114|-49.3759|\n",
      "|SP-São José do Rio Preto|900     |1     |22.5       |2025-06-03T18:15|80         |133          |8.4      |-20.8114|-49.3759|\n",
      "|SP-São José do Rio Preto|900     |1     |22.5       |2025-06-03T18:15|80         |133          |8.4      |-20.8114|-49.3759|\n",
      "|SP-São José do Rio Preto|900     |1     |22.5       |2025-06-03T18:15|80         |133          |8.4      |-20.8114|-49.3759|\n",
      "|SP-São José do Rio Preto|900     |1     |22.5       |2025-06-03T18:15|80         |133          |8.4      |-20.8114|-49.3759|\n",
      "|SP-São José do Rio Preto|900     |1     |22.5       |2025-06-03T18:15|80         |133          |8.4      |-20.8114|-49.3759|\n",
      "|SP-São José do Rio Preto|900     |1     |22.5       |2025-06-03T18:15|80         |133          |8.4      |-20.8114|-49.3759|\n",
      "|SP-São José do Rio Preto|900     |1     |22.5       |2025-06-03T18:15|80         |133          |8.4      |-20.8114|-49.3759|\n",
      "|SP-São José do Rio Preto|900     |1     |22.5       |2025-06-03T18:15|80         |133          |8.4      |-20.8114|-49.3759|\n",
      "|SP-São José do Rio Preto|900     |1     |22.5       |2025-06-03T18:15|80         |133          |8.4      |-20.8114|-49.3759|\n",
      "|SP-São José do Rio Preto|900     |1     |22.5       |2025-06-03T18:15|80         |133          |8.4      |-20.8114|-49.3759|\n",
      "|SP-São José do Rio Preto|900     |1     |22.5       |2025-06-03T18:15|80         |133          |8.4      |-20.8114|-49.3759|\n",
      "|SP-São José do Rio Preto|900     |1     |22.5       |2025-06-03T18:15|80         |133          |8.4      |-20.8114|-49.3759|\n",
      "|SP-São José do Rio Preto|900     |1     |22.5       |2025-06-03T18:30|80         |128          |8.2      |-20.8114|-49.3759|\n",
      "|SP-São José do Rio Preto|900     |1     |22.5       |2025-06-03T18:30|80         |128          |8.2      |-20.8114|-49.3759|\n",
      "|SP-São José do Rio Preto|900     |1     |22.5       |2025-06-03T18:30|80         |128          |8.2      |-20.8114|-49.3759|\n",
      "|SP-São José do Rio Preto|900     |1     |22.5       |2025-06-03T18:30|80         |128          |8.2      |-20.8114|-49.3759|\n",
      "|SP-São José do Rio Preto|900     |1     |22.5       |2025-06-03T18:30|80         |128          |8.2      |-20.8114|-49.3759|\n",
      "|SP-São José do Rio Preto|900     |1     |22.5       |2025-06-03T18:30|80         |128          |8.2      |-20.8114|-49.3759|\n",
      "|SP-São José do Rio Preto|900     |1     |22.5       |2025-06-03T18:30|80         |128          |8.2      |-20.8114|-49.3759|\n",
      "|SP-São José do Rio Preto|900     |1     |22.5       |2025-06-03T18:30|80         |128          |8.2      |-20.8114|-49.3759|\n",
      "|SP-São José do Rio Preto|900     |1     |22.5       |2025-06-03T18:30|80         |128          |8.2      |-20.8114|-49.3759|\n",
      "|SP-São José do Rio Preto|900     |1     |22.5       |2025-06-03T18:30|80         |128          |8.2      |-20.8114|-49.3759|\n",
      "|SP-São José do Rio Preto|900     |1     |22.5       |2025-06-03T18:30|80         |128          |8.2      |-20.8114|-49.3759|\n",
      "|SP-São José do Rio Preto|900     |1     |22.5       |2025-06-03T18:30|80         |128          |8.2      |-20.8114|-49.3759|\n",
      "|SP-São José do Rio Preto|900     |1     |22.5       |2025-06-03T18:30|80         |128          |8.2      |-20.8114|-49.3759|\n",
      "|SP-São José do Rio Preto|900     |1     |22.6       |2025-06-03T18:45|80         |122          |8.1      |-20.8114|-49.3759|\n",
      "|SP-São José do Rio Preto|900     |1     |22.6       |2025-06-03T18:45|80         |122          |8.1      |-20.8114|-49.3759|\n",
      "|SP-São José do Rio Preto|900     |1     |22.6       |2025-06-03T18:45|80         |122          |8.1      |-20.8114|-49.3759|\n",
      "|SP-São José do Rio Preto|900     |1     |22.6       |2025-06-03T18:45|80         |122          |8.1      |-20.8114|-49.3759|\n",
      "|SP-São José do Rio Preto|900     |1     |22.6       |2025-06-03T18:45|80         |122          |8.1      |-20.8114|-49.3759|\n",
      "|SP-São José do Rio Preto|900     |1     |22.6       |2025-06-03T18:45|80         |122          |8.1      |-20.8114|-49.3759|\n",
      "|SP-São José do Rio Preto|900     |1     |22.5       |2025-06-03T18:30|80         |128          |8.2      |-20.8114|-49.3759|\n",
      "|SP-São José do Rio Preto|900     |1     |22.5       |2025-06-03T18:30|80         |128          |8.2      |-20.8114|-49.3759|\n",
      "|SP-São José do Rio Preto|900     |1     |22.5       |2025-06-03T18:30|80         |128          |8.2      |-20.8114|-49.3759|\n",
      "|SP-São José do Rio Preto|900     |1     |22.6       |2025-06-03T18:45|80         |122          |8.1      |-20.8114|-49.3759|\n",
      "|SP-São José do Rio Preto|900     |1     |22.6       |2025-06-03T18:45|80         |122          |8.1      |-20.8114|-49.3759|\n",
      "|SP-São José do Rio Preto|900     |1     |22.6       |2025-06-03T18:45|80         |122          |8.1      |-20.8114|-49.3759|\n",
      "|SP-São José do Rio Preto|900     |1     |22.6       |2025-06-03T18:45|80         |122          |8.1      |-20.8114|-49.3759|\n",
      "|SP-São José do Rio Preto|900     |1     |22.6       |2025-06-03T18:45|80         |122          |8.1      |-20.8114|-49.3759|\n",
      "|SP-São José do Rio Preto|900     |1     |22.6       |2025-06-03T18:45|80         |122          |8.1      |-20.8114|-49.3759|\n",
      "|SP-São José do Rio Preto|900     |1     |22.5       |2025-06-03T18:30|80         |128          |8.2      |-20.8114|-49.3759|\n",
      "|SP-São José do Rio Preto|900     |1     |22.5       |2025-06-03T18:30|80         |128          |8.2      |-20.8114|-49.3759|\n",
      "|SP-São José do Rio Preto|900     |1     |22.5       |2025-06-03T18:30|80         |128          |8.2      |-20.8114|-49.3759|\n",
      "|SP-São José do Rio Preto|900     |1     |22.6       |2025-06-03T18:45|80         |122          |8.1      |-20.8114|-49.3759|\n",
      "|SP-São José do Rio Preto|900     |1     |22.6       |2025-06-03T18:45|80         |122          |8.1      |-20.8114|-49.3759|\n",
      "|SP-São José do Rio Preto|900     |1     |22.6       |2025-06-03T18:45|80         |122          |8.1      |-20.8114|-49.3759|\n",
      "|SP-São José do Rio Preto|900     |1     |22.6       |2025-06-03T18:45|80         |122          |8.1      |-20.8114|-49.3759|\n",
      "|SP-São José do Rio Preto|900     |1     |22.6       |2025-06-03T18:45|80         |122          |8.1      |-20.8114|-49.3759|\n",
      "|SP-São José do Rio Preto|900     |1     |22.6       |2025-06-03T18:45|80         |122          |8.1      |-20.8114|-49.3759|\n",
      "|SP-São José do Rio Preto|900     |1     |22.6       |2025-06-03T18:45|80         |122          |8.1      |-20.8114|-49.3759|\n",
      "|SP-São José do Rio Preto|900     |1     |22.6       |2025-06-03T18:45|80         |122          |8.1      |-20.8114|-49.3759|\n",
      "|SP-São José do Rio Preto|900     |1     |22.6       |2025-06-03T18:45|80         |122          |8.1      |-20.8114|-49.3759|\n",
      "|SP-São José do Rio Preto|900     |1     |22.6       |2025-06-03T18:45|80         |122          |8.1      |-20.8114|-49.3759|\n",
      "|SP-São José do Rio Preto|900     |0     |20.4       |2025-06-03T22:00|81         |129          |5.1      |-20.8114|-49.3759|\n",
      "|SP-São José do Rio Preto|900     |0     |20.4       |2025-06-03T22:00|81         |129          |5.1      |-20.8114|-49.3759|\n",
      "|SP-São José do Rio Preto|900     |0     |20.4       |2025-06-03T22:00|81         |129          |5.1      |-20.8114|-49.3759|\n",
      "|SP-São José do Rio Preto|900     |0     |20.0       |2025-06-03T22:15|81         |124          |5.2      |-20.8114|-49.3759|\n",
      "+------------------------+--------+------+-----------+----------------+-----------+-------------+---------+--------+--------+\n",
      "only showing top 100 rows\n",
      "\n"
     ]
    }
   ],
   "source": [
    "df_weather.show(100, truncate=False)"
   ]
  },
  {
   "cell_type": "code",
   "execution_count": null,
   "id": "de4154bf",
   "metadata": {},
   "outputs": [
    {
     "name": "stderr",
     "output_type": "stream",
     "text": [
      "                                                                                \r"
     ]
    }
   ],
   "source": [
    "# Une os dados de clima com as coordenadas das cidades\n",
    "df_weather = df_weather.join(df_cities, on=\"city\", how=\"left\")\n",
    "df_weather.write.mode(\"overwrite\").parquet(f\"s3a://{bucket_refined}/weather_with_coords\")\n",
    "\n",
    "# Une os dados de qualidade do ar com as coordenadas das cidades\n",
    "df_airquality = df_airquality.join(df_cities, on=\"city\", how=\"left\")\n",
    "df_airquality.write.mode(\"overwrite\").parquet(f\"s3a://{bucket_refined}/airquality_with_coords\")"
   ]
  },
  {
   "cell_type": "code",
   "execution_count": 6,
   "id": "8c9a9e6f-cd5f-405b-adbe-2294f9be31bf",
   "metadata": {},
   "outputs": [],
   "source": [
    "spark.stop()"
   ]
  },
  {
   "cell_type": "code",
   "execution_count": null,
   "id": "e26ce55a-3b0a-47dc-8efa-7466ed7793ca",
   "metadata": {},
   "outputs": [],
   "source": []
  }
 ],
 "metadata": {
  "kernelspec": {
   "display_name": "Python 3 (ipykernel)",
   "language": "python",
   "name": "python3"
  },
  "language_info": {
   "codemirror_mode": {
    "name": "ipython",
    "version": 3
   },
   "file_extension": ".py",
   "mimetype": "text/x-python",
   "name": "python",
   "nbconvert_exporter": "python",
   "pygments_lexer": "ipython3",
   "version": "3.12.9"
  }
 },
 "nbformat": 4,
 "nbformat_minor": 5
}
